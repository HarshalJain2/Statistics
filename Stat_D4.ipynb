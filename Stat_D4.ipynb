{
 "cells": [
  {
   "cell_type": "code",
   "execution_count": 5,
   "id": "dfce0772",
   "metadata": {},
   "outputs": [],
   "source": [
    "import pandas as pd\n",
    "import numpy as np\n",
    "import matplotlib as plt \n",
    "import matplotlib.pyplot as plt\n",
    "import seaborn as sns\n",
    "import statistics\n",
    "\n",
    "import random\n",
    "from scipy import stats\n",
    "from scipy.stats import shapiro\n",
    "from scipy.stats import chi2_contingency\n",
    "from statsmodels.stats import power\n",
    "import statsmodels.stats.multicomp as mc\n",
    "from statsmodels.stats import weightstats as stests \n",
    "import statsmodels.stats.multicomp as mc\n",
    "from statsmodels.stats.proportion import proportions_ztest"
   ]
  },
  {
   "cell_type": "code",
   "execution_count": 1,
   "id": "1441b408",
   "metadata": {},
   "outputs": [],
   "source": [
    "# import 'pandas' \n",
    "import pandas as pd \n",
    "\n",
    "# import 'numpy' \n",
    "import numpy as np\n",
    "\n",
    "# import subpackage of matplotlib\n",
    "import matplotlib.pyplot as plt\n",
    "\n",
    "# import 'seaborn'\n",
    "import seaborn as sns\n",
    "\n",
    "# to suppress warnings \n",
    "from warnings import filterwarnings\n",
    "filterwarnings('ignore')\n",
    "\n",
    "# import 'random' to generate random sample\n",
    "import random\n",
    "\n",
    "# import statistics to perform statistical computation  \n",
    "import statistics\n",
    "\n",
    "# import 'stats' package from scipy library\n",
    "from scipy import stats\n",
    "\n",
    "# import a library to perform Z-test\n",
    "from statsmodels.stats import weightstats as stests\n",
    "\n",
    "# to test the normality \n",
    "from scipy.stats import shapiro\n",
    "from scipy.stats import chi2_contingency\n",
    "# import the function to calculate the power of test\n",
    "from statsmodels.stats import power\n",
    "import statsmodels.stats.multicomp as mc"
   ]
  },
  {
   "cell_type": "markdown",
   "id": "f32f1b47",
   "metadata": {},
   "source": [
    "### Let's begin with some hands-on practice exercises"
   ]
  },
  {
   "cell_type": "markdown",
   "id": "b7046955",
   "metadata": {},
   "source": [
    "<table align=\"left\">\n",
    "    <tr>\n",
    "        <td width=\"6%\">\n",
    "            <img src=\"question_icon.png\">\n",
    "        </td>\n",
    "        <td>\n",
    "            <div align=\"left\", style=\"font-size:120%\">\n",
    "                <font color=\"#21618C\">\n",
    "                    <b>1. The sales manager at an electronics company wants to study if online sales of their products in 2019 follow the same distribution as the online sales of products in 2015. He collected the sample of 300 products sold in 2019. Help the manager to test his claim using p-value technique at a 99% confidence level.</b>\n",
    "                </font>\n",
    "            </div>\n",
    "        </td>\n",
    "    </tr>\n",
    "</table>"
   ]
  },
  {
   "cell_type": "markdown",
   "id": "00bb2fc3",
   "metadata": {},
   "source": [
    "<img src='chi_2.png'>"
   ]
  },
  {
   "cell_type": "code",
   "execution_count": 23,
   "id": "58ee5148",
   "metadata": {},
   "outputs": [],
   "source": [
    "# H0: The distribution of online sales of products in 2019 is the same as the distribution of online sales of products in 2015.\n",
    "# Ha: The distribution of online sales of products in 2019 is not the same as the distribution of online sales of products in 2015."
   ]
  },
  {
   "cell_type": "code",
   "execution_count": 3,
   "id": "02b6db7f",
   "metadata": {},
   "outputs": [
    {
     "data": {
      "text/plain": [
       "1.3776246111575923e-05"
      ]
     },
     "execution_count": 3,
     "metadata": {},
     "output_type": "execute_result"
    }
   ],
   "source": [
    "n=300\n",
    "sig_lvl=0.01\n",
    "sale_15=np.array([0.38,0.2,0.42])\n",
    "sale15=sale_15*n\n",
    "sale19=[85,90,125]\n",
    "stats, pval =stats.chisquare(f_exp=sale15,f_obs=sale19)\n",
    "pval"
   ]
  },
  {
   "cell_type": "code",
   "execution_count": 5,
   "id": "06ac2962",
   "metadata": {},
   "outputs": [
    {
     "name": "stdout",
     "output_type": "stream",
     "text": [
      "h0 is rejected \n",
      "The distribution of online sales of products in 2019 is not the same as the distribution of online sales of products in 2015 with 0.99 confidance\n"
     ]
    }
   ],
   "source": [
    "pval=0\n",
    "if pval<sig_lvl:\n",
    "    print('h0 is rejected \\nThe distribution of online sales of products in 2019 is not the same as the distribution of online sales of products in 2015 with {:.2f} confidence'.format(1-sig_lvl))\n",
    "else:\n",
    "    print('fail to reject h0 \\nThe distribution of online sales of products in 2019 is the same as the distribution of online sales of products in 2015 with {:.2f} confidence'.format(1-sig_lvl))\n",
    "    "
   ]
  },
  {
   "cell_type": "code",
   "execution_count": null,
   "id": "47529f5b",
   "metadata": {},
   "outputs": [],
   "source": []
  },
  {
   "cell_type": "code",
   "execution_count": null,
   "id": "66748427",
   "metadata": {},
   "outputs": [],
   "source": []
  },
  {
   "cell_type": "code",
   "execution_count": null,
   "id": "50a84ccb",
   "metadata": {},
   "outputs": [],
   "source": []
  },
  {
   "cell_type": "markdown",
   "id": "a079ae99",
   "metadata": {},
   "source": [
    "<table align=\"left\">\n",
    "    <tr>\n",
    "        <td width=\"6%\">\n",
    "            <img src=\"question_icon.png\">\n",
    "        </td>\n",
    "        <td>\n",
    "            <div align=\"left\", style=\"font-size:120%\">\n",
    "                <font color=\"#21618C\">\n",
    "                    <b>2. Use hypothesis testing to check if the type of car maintenance is dependent on the type of car's transmission. Test the hypothesis with 95% confidence.</b>\n",
    "                </font>\n",
    "            </div>\n",
    "        </td>\n",
    "    </tr>\n",
    "</table>"
   ]
  },
  {
   "cell_type": "markdown",
   "id": "32bf38cc",
   "metadata": {},
   "source": [
    "<img src='chi_ind.png'>"
   ]
  },
  {
   "cell_type": "code",
   "execution_count": 14,
   "id": "f45e8f93",
   "metadata": {},
   "outputs": [
    {
     "name": "stdout",
     "output_type": "stream",
     "text": [
      "h0 is rejected \n",
      "The type of car maintenance is dependent on the type of car transmission with 0.95 confidence\n"
     ]
    }
   ],
   "source": [
    "#h0: The type of car maintenance is independent of the type of car transmission.\n",
    "#ha: The type of car maintenance is dependent on the type of car transmission.\n",
    "sig_lvl=0.05\n",
    "obs= np.array([[104,85,78],[35,61,72]])\n",
    "pval=stats.chi2_contingency(obs)[1]\n",
    "\n",
    "if pval<sig_lvl:\n",
    "    print('h0 is rejected \\nThe type of car maintenance is dependent on the type of car transmission with {:.2f} confidence'.format(1-sig_lvl))\n",
    "else:\n",
    "    print('we are fail to reject h0 \\nThe type of car maintenance is independent of the type of car transmission with {:.2f} confidence'.format(1-sig_lvl))"
   ]
  },
  {
   "cell_type": "markdown",
   "id": "73e955cf",
   "metadata": {},
   "source": [
    "<table align=\"left\">\n",
    "    <tr>\n",
    "        <td width=\"6%\">\n",
    "            <img src=\"question_icon.png\">\n",
    "        </td>\n",
    "        <td>\n",
    "            <div align=\"left\", style=\"font-size:120%\">\n",
    "                <font color=\"#21618C\">\n",
    "                    <b>3. The company claims that in the organization, 68% of employees travel rarely, 20% travel frequently and 12% of employees do not travel for business. Check if the given data fits with the company's claimed distribution. Use the p-value technique with 99% confidence. </b>\n",
    "                </font>\n",
    "            </div>\n",
    "        </td>\n",
    "    </tr>\n",
    "</table>"
   ]
  },
  {
   "cell_type": "markdown",
   "id": "36f92df1",
   "metadata": {},
   "source": [
    "Use the data available in the CSV file `Employee_Attrition.csv`."
   ]
  },
  {
   "cell_type": "code",
   "execution_count": 41,
   "id": "76bba45b",
   "metadata": {},
   "outputs": [
    {
     "data": {
      "text/html": [
       "<div>\n",
       "<style scoped>\n",
       "    .dataframe tbody tr th:only-of-type {\n",
       "        vertical-align: middle;\n",
       "    }\n",
       "\n",
       "    .dataframe tbody tr th {\n",
       "        vertical-align: top;\n",
       "    }\n",
       "\n",
       "    .dataframe thead th {\n",
       "        text-align: right;\n",
       "    }\n",
       "</style>\n",
       "<table border=\"1\" class=\"dataframe\">\n",
       "  <thead>\n",
       "    <tr style=\"text-align: right;\">\n",
       "      <th></th>\n",
       "      <th>Age</th>\n",
       "      <th>Attrition</th>\n",
       "      <th>BusinessTravel</th>\n",
       "      <th>DailyRate</th>\n",
       "      <th>Department</th>\n",
       "      <th>DistanceFromHome</th>\n",
       "      <th>Education</th>\n",
       "      <th>EducationField</th>\n",
       "      <th>EmployeeCount</th>\n",
       "      <th>EmployeeNumber</th>\n",
       "      <th>EnvironmentSatisfaction</th>\n",
       "      <th>Gender</th>\n",
       "      <th>HourlyRate</th>\n",
       "      <th>JobInvolvement</th>\n",
       "      <th>JobLevel</th>\n",
       "      <th>JobRole</th>\n",
       "      <th>JobSatisfaction</th>\n",
       "      <th>MaritalStatus</th>\n",
       "      <th>MonthlyIncome</th>\n",
       "      <th>MonthlyRate</th>\n",
       "      <th>NumCompaniesWorked</th>\n",
       "      <th>Over18</th>\n",
       "      <th>OverTime</th>\n",
       "      <th>PercentSalaryHike</th>\n",
       "      <th>PerformanceRating</th>\n",
       "      <th>RelationshipSatisfaction</th>\n",
       "      <th>StandardHours</th>\n",
       "      <th>StockOptionLevel</th>\n",
       "      <th>TotalWorkingYears</th>\n",
       "      <th>TrainingTimesLastYear</th>\n",
       "      <th>WorkLifeBalance</th>\n",
       "      <th>YearsAtCompany</th>\n",
       "      <th>YearsInCurrentRole</th>\n",
       "      <th>YearsSinceLastPromotion</th>\n",
       "      <th>YearsWithCurrManager</th>\n",
       "    </tr>\n",
       "  </thead>\n",
       "  <tbody>\n",
       "    <tr>\n",
       "      <th>0</th>\n",
       "      <td>41</td>\n",
       "      <td>Yes</td>\n",
       "      <td>Travel_Rarely</td>\n",
       "      <td>1102</td>\n",
       "      <td>Sales</td>\n",
       "      <td>1</td>\n",
       "      <td>2</td>\n",
       "      <td>Life Sciences</td>\n",
       "      <td>1</td>\n",
       "      <td>1</td>\n",
       "      <td>2</td>\n",
       "      <td>Female</td>\n",
       "      <td>94</td>\n",
       "      <td>3</td>\n",
       "      <td>2</td>\n",
       "      <td>Sales Executive</td>\n",
       "      <td>4</td>\n",
       "      <td>Single</td>\n",
       "      <td>5993</td>\n",
       "      <td>19479</td>\n",
       "      <td>8</td>\n",
       "      <td>Y</td>\n",
       "      <td>Yes</td>\n",
       "      <td>11</td>\n",
       "      <td>3</td>\n",
       "      <td>1</td>\n",
       "      <td>80</td>\n",
       "      <td>0</td>\n",
       "      <td>8</td>\n",
       "      <td>0</td>\n",
       "      <td>1</td>\n",
       "      <td>6</td>\n",
       "      <td>4</td>\n",
       "      <td>0</td>\n",
       "      <td>5</td>\n",
       "    </tr>\n",
       "    <tr>\n",
       "      <th>1</th>\n",
       "      <td>49</td>\n",
       "      <td>No</td>\n",
       "      <td>Travel_Frequently</td>\n",
       "      <td>279</td>\n",
       "      <td>Research &amp; Development</td>\n",
       "      <td>8</td>\n",
       "      <td>1</td>\n",
       "      <td>Life Sciences</td>\n",
       "      <td>1</td>\n",
       "      <td>2</td>\n",
       "      <td>3</td>\n",
       "      <td>Male</td>\n",
       "      <td>61</td>\n",
       "      <td>2</td>\n",
       "      <td>2</td>\n",
       "      <td>Research Scientist</td>\n",
       "      <td>2</td>\n",
       "      <td>Married</td>\n",
       "      <td>5130</td>\n",
       "      <td>24907</td>\n",
       "      <td>1</td>\n",
       "      <td>Y</td>\n",
       "      <td>No</td>\n",
       "      <td>23</td>\n",
       "      <td>4</td>\n",
       "      <td>4</td>\n",
       "      <td>80</td>\n",
       "      <td>1</td>\n",
       "      <td>10</td>\n",
       "      <td>3</td>\n",
       "      <td>3</td>\n",
       "      <td>10</td>\n",
       "      <td>7</td>\n",
       "      <td>1</td>\n",
       "      <td>7</td>\n",
       "    </tr>\n",
       "    <tr>\n",
       "      <th>2</th>\n",
       "      <td>37</td>\n",
       "      <td>Yes</td>\n",
       "      <td>Travel_Rarely</td>\n",
       "      <td>1373</td>\n",
       "      <td>Research &amp; Development</td>\n",
       "      <td>2</td>\n",
       "      <td>2</td>\n",
       "      <td>Other</td>\n",
       "      <td>1</td>\n",
       "      <td>4</td>\n",
       "      <td>4</td>\n",
       "      <td>Male</td>\n",
       "      <td>92</td>\n",
       "      <td>2</td>\n",
       "      <td>1</td>\n",
       "      <td>Laboratory Technician</td>\n",
       "      <td>3</td>\n",
       "      <td>Single</td>\n",
       "      <td>2090</td>\n",
       "      <td>2396</td>\n",
       "      <td>6</td>\n",
       "      <td>Y</td>\n",
       "      <td>Yes</td>\n",
       "      <td>15</td>\n",
       "      <td>3</td>\n",
       "      <td>2</td>\n",
       "      <td>80</td>\n",
       "      <td>0</td>\n",
       "      <td>7</td>\n",
       "      <td>3</td>\n",
       "      <td>3</td>\n",
       "      <td>0</td>\n",
       "      <td>0</td>\n",
       "      <td>0</td>\n",
       "      <td>0</td>\n",
       "    </tr>\n",
       "    <tr>\n",
       "      <th>3</th>\n",
       "      <td>33</td>\n",
       "      <td>No</td>\n",
       "      <td>Travel_Frequently</td>\n",
       "      <td>1392</td>\n",
       "      <td>Research &amp; Development</td>\n",
       "      <td>3</td>\n",
       "      <td>4</td>\n",
       "      <td>Life Sciences</td>\n",
       "      <td>1</td>\n",
       "      <td>5</td>\n",
       "      <td>4</td>\n",
       "      <td>Female</td>\n",
       "      <td>56</td>\n",
       "      <td>3</td>\n",
       "      <td>1</td>\n",
       "      <td>Research Scientist</td>\n",
       "      <td>3</td>\n",
       "      <td>Married</td>\n",
       "      <td>2909</td>\n",
       "      <td>23159</td>\n",
       "      <td>1</td>\n",
       "      <td>Y</td>\n",
       "      <td>Yes</td>\n",
       "      <td>11</td>\n",
       "      <td>3</td>\n",
       "      <td>3</td>\n",
       "      <td>80</td>\n",
       "      <td>0</td>\n",
       "      <td>8</td>\n",
       "      <td>3</td>\n",
       "      <td>3</td>\n",
       "      <td>8</td>\n",
       "      <td>7</td>\n",
       "      <td>3</td>\n",
       "      <td>0</td>\n",
       "    </tr>\n",
       "    <tr>\n",
       "      <th>4</th>\n",
       "      <td>27</td>\n",
       "      <td>No</td>\n",
       "      <td>Travel_Rarely</td>\n",
       "      <td>591</td>\n",
       "      <td>Research &amp; Development</td>\n",
       "      <td>2</td>\n",
       "      <td>1</td>\n",
       "      <td>Medical</td>\n",
       "      <td>1</td>\n",
       "      <td>7</td>\n",
       "      <td>1</td>\n",
       "      <td>Male</td>\n",
       "      <td>40</td>\n",
       "      <td>3</td>\n",
       "      <td>1</td>\n",
       "      <td>Laboratory Technician</td>\n",
       "      <td>2</td>\n",
       "      <td>Married</td>\n",
       "      <td>3468</td>\n",
       "      <td>16632</td>\n",
       "      <td>9</td>\n",
       "      <td>Y</td>\n",
       "      <td>No</td>\n",
       "      <td>12</td>\n",
       "      <td>3</td>\n",
       "      <td>4</td>\n",
       "      <td>80</td>\n",
       "      <td>1</td>\n",
       "      <td>6</td>\n",
       "      <td>3</td>\n",
       "      <td>3</td>\n",
       "      <td>2</td>\n",
       "      <td>2</td>\n",
       "      <td>2</td>\n",
       "      <td>2</td>\n",
       "    </tr>\n",
       "  </tbody>\n",
       "</table>\n",
       "</div>"
      ],
      "text/plain": [
       "   Age Attrition     BusinessTravel  DailyRate              Department  \\\n",
       "0   41       Yes      Travel_Rarely       1102                   Sales   \n",
       "1   49        No  Travel_Frequently        279  Research & Development   \n",
       "2   37       Yes      Travel_Rarely       1373  Research & Development   \n",
       "3   33        No  Travel_Frequently       1392  Research & Development   \n",
       "4   27        No      Travel_Rarely        591  Research & Development   \n",
       "\n",
       "   DistanceFromHome  Education EducationField  EmployeeCount  EmployeeNumber  \\\n",
       "0                 1          2  Life Sciences              1               1   \n",
       "1                 8          1  Life Sciences              1               2   \n",
       "2                 2          2          Other              1               4   \n",
       "3                 3          4  Life Sciences              1               5   \n",
       "4                 2          1        Medical              1               7   \n",
       "\n",
       "   EnvironmentSatisfaction  Gender  HourlyRate  JobInvolvement  JobLevel  \\\n",
       "0                        2  Female          94               3         2   \n",
       "1                        3    Male          61               2         2   \n",
       "2                        4    Male          92               2         1   \n",
       "3                        4  Female          56               3         1   \n",
       "4                        1    Male          40               3         1   \n",
       "\n",
       "                 JobRole  JobSatisfaction MaritalStatus  MonthlyIncome  \\\n",
       "0        Sales Executive                4        Single           5993   \n",
       "1     Research Scientist                2       Married           5130   \n",
       "2  Laboratory Technician                3        Single           2090   \n",
       "3     Research Scientist                3       Married           2909   \n",
       "4  Laboratory Technician                2       Married           3468   \n",
       "\n",
       "   MonthlyRate  NumCompaniesWorked Over18 OverTime  PercentSalaryHike  \\\n",
       "0        19479                   8      Y      Yes                 11   \n",
       "1        24907                   1      Y       No                 23   \n",
       "2         2396                   6      Y      Yes                 15   \n",
       "3        23159                   1      Y      Yes                 11   \n",
       "4        16632                   9      Y       No                 12   \n",
       "\n",
       "   PerformanceRating  RelationshipSatisfaction  StandardHours  \\\n",
       "0                  3                         1             80   \n",
       "1                  4                         4             80   \n",
       "2                  3                         2             80   \n",
       "3                  3                         3             80   \n",
       "4                  3                         4             80   \n",
       "\n",
       "   StockOptionLevel  TotalWorkingYears  TrainingTimesLastYear  \\\n",
       "0                 0                  8                      0   \n",
       "1                 1                 10                      3   \n",
       "2                 0                  7                      3   \n",
       "3                 0                  8                      3   \n",
       "4                 1                  6                      3   \n",
       "\n",
       "   WorkLifeBalance  YearsAtCompany  YearsInCurrentRole  \\\n",
       "0                1               6                   4   \n",
       "1                3              10                   7   \n",
       "2                3               0                   0   \n",
       "3                3               8                   7   \n",
       "4                3               2                   2   \n",
       "\n",
       "   YearsSinceLastPromotion  YearsWithCurrManager  \n",
       "0                        0                     5  \n",
       "1                        1                     7  \n",
       "2                        0                     0  \n",
       "3                        3                     0  \n",
       "4                        2                     2  "
      ]
     },
     "execution_count": 41,
     "metadata": {},
     "output_type": "execute_result"
    }
   ],
   "source": [
    "pd.set_option('display.max_rows', None) \n",
    "pd.set_option('display.max_columns', None)\n",
    "df=pd.read_csv('Employee_Attrition.csv')\n",
    "df.head()"
   ]
  },
  {
   "cell_type": "code",
   "execution_count": 46,
   "id": "e0dc0508",
   "metadata": {},
   "outputs": [
    {
     "name": "stdout",
     "output_type": "stream",
     "text": [
      "fail to reject h0 \n",
      "There is no significant difference between the observed and expected frequencies from the expected distribution with 0.99 confidence\n"
     ]
    }
   ],
   "source": [
    "#h0: There is no significant difference between the observed and expected frequencies from the expected distribution\n",
    "#ha: There is a significant difference between the observed and expected frequencies from the expected distribution\n",
    "sig_lvl=0.01\n",
    "n=df['BusinessTravel'].count()\n",
    "exp_per=np.array([0.68,0.20,0.12])\n",
    "exp_count=exp_per*n\n",
    "obs_count=[df[df['BusinessTravel']=='Travel_Rarely'].count()[1],df[df['BusinessTravel']=='Travel_Frequently'].count()[1],df[df['BusinessTravel']=='Non-Travel'].count()[1]]\n",
    "stats, pval=stats.chisquare(f_exp=exp_count,f_obs=obs_count)\n",
    "if pval<sig_lvl:\n",
    "    print('h0 is rejected \\nThere is a significant difference between the observed and expected frequencies from the expected distribution with {:.2f} confidence'.format(1-sig_lvl))\n",
    "else:\n",
    "    print('fail to reject h0 \\nThere is no significant difference between the observed and expected frequencies from the expected distribution with {:.2f} confidence' .format(1-sig_lvl))"
   ]
  },
  {
   "cell_type": "code",
   "execution_count": 38,
   "id": "dce8ea9f",
   "metadata": {},
   "outputs": [
    {
     "data": {
      "text/plain": [
       "1043"
      ]
     },
     "execution_count": 38,
     "metadata": {},
     "output_type": "execute_result"
    }
   ],
   "source": [
    "df[df['BusinessTravel']=='Travel_Rarely'].count()[1]\n",
    "df[df['BusinessTravel']=='Travel_Frequently'].count()[1]\n",
    "df[df['BusinessTravel']=='Non-Travel'].count()[1]"
   ]
  },
  {
   "cell_type": "code",
   "execution_count": 41,
   "id": "2479cb00",
   "metadata": {},
   "outputs": [
    {
     "data": {
      "text/plain": [
       "Travel_Rarely        1043\n",
       "Travel_Frequently     277\n",
       "Non-Travel            150\n",
       "Name: BusinessTravel, dtype: int64"
      ]
     },
     "execution_count": 41,
     "metadata": {},
     "output_type": "execute_result"
    }
   ],
   "source": [
    "df['BusinessTravel'].value_counts()"
   ]
  },
  {
   "cell_type": "code",
   "execution_count": 44,
   "id": "a7b3c50e",
   "metadata": {},
   "outputs": [
    {
     "data": {
      "text/plain": [
       "[1043, 277, 150]"
      ]
     },
     "execution_count": 44,
     "metadata": {},
     "output_type": "execute_result"
    }
   ],
   "source": [
    "obs_count=[df[df['BusinessTravel']=='Travel_Rarely'].count()[1],df[df['BusinessTravel']=='Travel_Frequently'].count()[1],df[df['BusinessTravel']=='Non-Travel'].count()[1]]\n",
    "obs_count"
   ]
  },
  {
   "cell_type": "code",
   "execution_count": null,
   "id": "14b34ad8",
   "metadata": {},
   "outputs": [],
   "source": []
  },
  {
   "cell_type": "code",
   "execution_count": 2,
   "id": "ee5fc138",
   "metadata": {},
   "outputs": [
    {
     "ename": "AttributeError",
     "evalue": "'norm_gen' object has no attribute 'ifs'",
     "output_type": "error",
     "traceback": [
      "\u001b[1;31m---------------------------------------------------------------------------\u001b[0m",
      "\u001b[1;31mAttributeError\u001b[0m                            Traceback (most recent call last)",
      "\u001b[1;32m~\\AppData\\Local\\Temp\\ipykernel_28504\\3355844082.py\u001b[0m in \u001b[0;36m<module>\u001b[1;34m\u001b[0m\n\u001b[1;32m----> 1\u001b[1;33m \u001b[0mstats\u001b[0m\u001b[1;33m.\u001b[0m\u001b[0mnorm\u001b[0m\u001b[1;33m.\u001b[0m\u001b[0mifs\u001b[0m\u001b[1;33m(\u001b[0m\u001b[1;36m0.025\u001b[0m\u001b[1;33m)\u001b[0m\u001b[1;33m\u001b[0m\u001b[1;33m\u001b[0m\u001b[0m\n\u001b[0m",
      "\u001b[1;31mAttributeError\u001b[0m: 'norm_gen' object has no attribute 'ifs'"
     ]
    }
   ],
   "source": [
    "stats.norm.ifs(0.025)"
   ]
  },
  {
   "cell_type": "markdown",
   "id": "872b74b1",
   "metadata": {},
   "source": [
    "<table align=\"left\">\n",
    "    <tr>\n",
    "        <td width=\"6%\">\n",
    "            <img src=\"question_icon.png\">\n",
    "        </td>\n",
    "        <td>\n",
    "            <div align=\"left\", style=\"font-size:120%\">\n",
    "                <font color=\"#21618C\">\n",
    "                        <b>4. Check whether travelling for the business is related to the gender of an employee. Use the p-value technique to test the claim with 90% confidence. </b>\n",
    "                </font>\n",
    "            </div>\n",
    "        </td>\n",
    "    </tr>\n",
    "</table>"
   ]
  },
  {
   "cell_type": "markdown",
   "id": "5268efde",
   "metadata": {},
   "source": [
    "Use the data available in the CSV file `Employee_Attrition.csv`."
   ]
  },
  {
   "cell_type": "code",
   "execution_count": 55,
   "id": "0d101f32",
   "metadata": {},
   "outputs": [
    {
     "name": "stdout",
     "output_type": "stream",
     "text": [
      "fail to reject h0 \n",
      "There is no relation b/w gender and travelling for the business (Independent) with 0.90 confidence\n"
     ]
    }
   ],
   "source": [
    "# ho : There is no relation b/w gender and travelling for the business (Independent)\n",
    "# ha : There is a relation b/w gender and travelling for the business (Dependent)\n",
    "sig_lvl=0.1\n",
    "obs= pd.crosstab(index=df['Gender'],columns=df['BusinessTravel'])\n",
    "pval=stats.chi2_contingency(obs)[1]\n",
    "if pval<sig_lvl:\n",
    "    print('h0 is rejected \\nThere is a relation b/w gender and travelling for the business (Dependent) with {:.2f} confidence'.format(1-sig_lvl))\n",
    "else:\n",
    "    print('fail to reject h0 \\nThere is no relation b/w gender and travelling for the business (Independent) with {:.2f} confidence'.format(1-sig_lvl))"
   ]
  },
  {
   "cell_type": "markdown",
   "id": "25452fcb",
   "metadata": {},
   "source": [
    "<table align=\"left\">\n",
    "    <tr>\n",
    "        <td width=\"6%\">\n",
    "            <img src=\"question_icon.png\">\n",
    "        </td>\n",
    "        <td>\n",
    "            <div align=\"left\", style=\"font-size:120%\">\n",
    "                <font color=\"#21618C\">\n",
    "                    <b>5. A company produces leather belts on three different production lines. The number of defective belts produced by each line is recorded. Test if all the production lines produce on an average equal number of defective belts. Use the p-value technique to test at 5% level of significance.  </b>\n",
    "                </font>\n",
    "            </div>\n",
    "        </td>\n",
    "    </tr>\n",
    "</table>"
   ]
  },
  {
   "cell_type": "markdown",
   "id": "b442493e",
   "metadata": {},
   "source": [
    "Use the data given in the excel file defective_prod.xlsx"
   ]
  },
  {
   "cell_type": "code",
   "execution_count": 4,
   "id": "815a1862",
   "metadata": {},
   "outputs": [
    {
     "data": {
      "text/html": [
       "<div>\n",
       "<style scoped>\n",
       "    .dataframe tbody tr th:only-of-type {\n",
       "        vertical-align: middle;\n",
       "    }\n",
       "\n",
       "    .dataframe tbody tr th {\n",
       "        vertical-align: top;\n",
       "    }\n",
       "\n",
       "    .dataframe thead th {\n",
       "        text-align: right;\n",
       "    }\n",
       "</style>\n",
       "<table border=\"1\" class=\"dataframe\">\n",
       "  <thead>\n",
       "    <tr style=\"text-align: right;\">\n",
       "      <th></th>\n",
       "      <th>production_line</th>\n",
       "      <th>def_belts</th>\n",
       "    </tr>\n",
       "  </thead>\n",
       "  <tbody>\n",
       "    <tr>\n",
       "      <th>0</th>\n",
       "      <td>A</td>\n",
       "      <td>5</td>\n",
       "    </tr>\n",
       "    <tr>\n",
       "      <th>1</th>\n",
       "      <td>C</td>\n",
       "      <td>2</td>\n",
       "    </tr>\n",
       "    <tr>\n",
       "      <th>2</th>\n",
       "      <td>B</td>\n",
       "      <td>3</td>\n",
       "    </tr>\n",
       "  </tbody>\n",
       "</table>\n",
       "</div>"
      ],
      "text/plain": [
       "  production_line  def_belts\n",
       "0               A          5\n",
       "1               C          2\n",
       "2               B          3"
      ]
     },
     "execution_count": 4,
     "metadata": {},
     "output_type": "execute_result"
    }
   ],
   "source": [
    "# produce on an average equal number of defective belts i.e. we have to find um1=um2=um3 using one way annova test\n",
    "\n",
    "df1=pd.read_excel('defective_prod.xlsx')\n",
    "df1.head(3)"
   ]
  },
  {
   "cell_type": "code",
   "execution_count": 3,
   "id": "ac9f1dc1",
   "metadata": {},
   "outputs": [],
   "source": [
    "#hypothesis\n",
    "#h0: all the production lines produce on an average equal number of defective belts\n",
    "#ha: all the production lines produce on an average not an equal number of defective belts\n",
    "\n",
    "#condition 1 to do one way annova test \n",
    "#data is normal or not (using shapiro test)\n",
    "#h0: data is normal\n",
    "#ha: data is not normal\n",
    "\n",
    "#condition 2 to do one way annova test\n",
    "#check variance must be equal (using levene test)\n",
    "#h0: all variance are equal \n",
    "#h1: atleast one variance is not equal\n",
    "\n"
   ]
  },
  {
   "cell_type": "code",
   "execution_count": 5,
   "id": "75c38713",
   "metadata": {},
   "outputs": [
    {
     "data": {
      "text/plain": [
       "ShapiroResult(statistic=0.925964891910553, pvalue=0.11425024271011353)"
      ]
     },
     "execution_count": 5,
     "metadata": {},
     "output_type": "execute_result"
    }
   ],
   "source": [
    "#condition 1 to do one way annova test \n",
    "#data is normal or not (using shapiro test)\n",
    "#h0: data is normal\n",
    "#ha: data is not normal\n",
    "sig_lvl=0.05\n",
    "stats.shapiro(df1['def_belts'])"
   ]
  },
  {
   "cell_type": "code",
   "execution_count": null,
   "id": "4c2de618",
   "metadata": {},
   "outputs": [],
   "source": [
    "# pval>sig lvl\n",
    "# all data are normal"
   ]
  },
  {
   "cell_type": "code",
   "execution_count": null,
   "id": "7e8179fc",
   "metadata": {},
   "outputs": [],
   "source": [
    "#condition 2 to do one way annova test\n",
    "#check variance must be equal (using levene test)\n",
    "#h0: all variance are equal \n",
    "#h1: atleast one variance is not equal"
   ]
  },
  {
   "cell_type": "code",
   "execution_count": 7,
   "id": "92b13965",
   "metadata": {},
   "outputs": [],
   "source": [
    "grp_a = df1[df1['production_line']=='A']['def_belts']\n",
    "grp_b = df1[df1['production_line']=='B']['def_belts']\n",
    "grp_c = df1[df1['production_line']=='C']['def_belts']"
   ]
  },
  {
   "cell_type": "code",
   "execution_count": 8,
   "id": "b4546b31",
   "metadata": {},
   "outputs": [
    {
     "data": {
      "text/plain": [
       "LeveneResult(statistic=0.8375, pvalue=0.4489726403784061)"
      ]
     },
     "execution_count": 8,
     "metadata": {},
     "output_type": "execute_result"
    }
   ],
   "source": [
    "stats.levene(grp_a,grp_b,grp_c)"
   ]
  },
  {
   "cell_type": "code",
   "execution_count": 15,
   "id": "beae4849",
   "metadata": {},
   "outputs": [
    {
     "data": {
      "text/plain": [
       "0.44857788134106824"
      ]
     },
     "execution_count": 15,
     "metadata": {},
     "output_type": "execute_result"
    }
   ],
   "source": [
    "# pval>sig_lvl\n",
    "# h0: all variance are equal \n",
    "# we can proceed to annova test\n",
    "# all assumption are satisfied\n",
    "pval"
   ]
  },
  {
   "cell_type": "code",
   "execution_count": 14,
   "id": "6036b028",
   "metadata": {},
   "outputs": [
    {
     "name": "stdout",
     "output_type": "stream",
     "text": [
      "fail to reject h0 \n",
      "all the production lines produce on an average equal number of defective belts with 0.95 confidence\n"
     ]
    }
   ],
   "source": [
    "pval=stats.f_oneway(grp_a,grp_b,grp_c)[1]\n",
    "if pval< sig_lvl:\n",
    "    print('h0 is rejected \\nall the production lines produce on an average are not an equal number of defective belts with {:.2f} confidence'.format(1-sig_lvl))\n",
    "else:\n",
    "    print('fail to reject h0 \\nall the production lines produce on an average equal number of defective belts with {:.2f} confidence'.format(1-sig_lvl))"
   ]
  },
  {
   "cell_type": "code",
   "execution_count": null,
   "id": "993f28c0",
   "metadata": {},
   "outputs": [],
   "source": [
    "# pval=0.44\n",
    "# sig lvl=0.05\n",
    "# pval>sig lvl\n",
    "# fail to reject h0 \n",
    "# all means are equal"
   ]
  },
  {
   "cell_type": "code",
   "execution_count": null,
   "id": "d8fb401a",
   "metadata": {},
   "outputs": [],
   "source": []
  },
  {
   "cell_type": "code",
   "execution_count": 6,
   "id": "aee70f61",
   "metadata": {},
   "outputs": [],
   "source": []
  },
  {
   "cell_type": "markdown",
   "id": "9e3d793d",
   "metadata": {},
   "source": [
    "<table align=\"left\">\n",
    "    <tr>\n",
    "        <td width=\"6%\">\n",
    "            <img src=\"question_icon.png\">\n",
    "        </td>\n",
    "        <td>\n",
    "            <div align=\"left\", style=\"font-size:120%\">\n",
    "                <font color=\"#21618C\">\n",
    "                    <b>6. Check whether we can use the given dataset to study the equality of average monthly income of sales executives with a different education background in the company. Use a p-value technique to test at a 1% level of significance.</b>\n",
    "                </font>\n",
    "            </div>\n",
    "        </td>\n",
    "    </tr>\n",
    "</table>"
   ]
  },
  {
   "cell_type": "code",
   "execution_count": 36,
   "id": "bdd6f2c6",
   "metadata": {},
   "outputs": [
    {
     "data": {
      "text/html": [
       "<div>\n",
       "<style scoped>\n",
       "    .dataframe tbody tr th:only-of-type {\n",
       "        vertical-align: middle;\n",
       "    }\n",
       "\n",
       "    .dataframe tbody tr th {\n",
       "        vertical-align: top;\n",
       "    }\n",
       "\n",
       "    .dataframe thead th {\n",
       "        text-align: right;\n",
       "    }\n",
       "</style>\n",
       "<table border=\"1\" class=\"dataframe\">\n",
       "  <thead>\n",
       "    <tr style=\"text-align: right;\">\n",
       "      <th></th>\n",
       "      <th>Age</th>\n",
       "      <th>BusinessTravel</th>\n",
       "      <th>DailyRate</th>\n",
       "      <th>DistanceFromHome</th>\n",
       "      <th>Education</th>\n",
       "      <th>EducationField</th>\n",
       "      <th>EmployeeCount</th>\n",
       "      <th>EmployeeNumber</th>\n",
       "      <th>EnvironmentSatisfaction</th>\n",
       "      <th>HourlyRate</th>\n",
       "      <th>JobInvolvement</th>\n",
       "      <th>JobLevel</th>\n",
       "      <th>JobSatisfaction</th>\n",
       "      <th>MaritalStatus</th>\n",
       "      <th>MonthlyIncome</th>\n",
       "      <th>MonthlyRate</th>\n",
       "      <th>NumCompaniesWorked</th>\n",
       "      <th>Over18</th>\n",
       "      <th>OverTime</th>\n",
       "      <th>PercentSalaryHike</th>\n",
       "      <th>PerformanceRating</th>\n",
       "      <th>RelationshipSatisfaction</th>\n",
       "      <th>StandardHours</th>\n",
       "      <th>StockOptionLevel</th>\n",
       "      <th>TotalWorkingYears</th>\n",
       "      <th>TrainingTimesLastYear</th>\n",
       "      <th>WorkLifeBalance</th>\n",
       "      <th>YearsAtCompany</th>\n",
       "      <th>YearsInCurrentRole</th>\n",
       "      <th>YearsSinceLastPromotion</th>\n",
       "      <th>YearsWithCurrManager</th>\n",
       "    </tr>\n",
       "  </thead>\n",
       "  <tbody>\n",
       "    <tr>\n",
       "      <th>0</th>\n",
       "      <td>36</td>\n",
       "      <td>Travel_Rarely</td>\n",
       "      <td>1218</td>\n",
       "      <td>9</td>\n",
       "      <td>4</td>\n",
       "      <td>Life Sciences</td>\n",
       "      <td>1</td>\n",
       "      <td>27</td>\n",
       "      <td>3</td>\n",
       "      <td>82</td>\n",
       "      <td>2</td>\n",
       "      <td>1</td>\n",
       "      <td>1</td>\n",
       "      <td>Single</td>\n",
       "      <td>3407</td>\n",
       "      <td>6986</td>\n",
       "      <td>7</td>\n",
       "      <td>Y</td>\n",
       "      <td>No</td>\n",
       "      <td>23</td>\n",
       "      <td>4</td>\n",
       "      <td>2</td>\n",
       "      <td>80</td>\n",
       "      <td>0</td>\n",
       "      <td>10</td>\n",
       "      <td>4</td>\n",
       "      <td>3</td>\n",
       "      <td>5</td>\n",
       "      <td>3</td>\n",
       "      <td>0</td>\n",
       "      <td>3</td>\n",
       "    </tr>\n",
       "    <tr>\n",
       "      <th>1</th>\n",
       "      <td>39</td>\n",
       "      <td>Travel_Rarely</td>\n",
       "      <td>895</td>\n",
       "      <td>5</td>\n",
       "      <td>3</td>\n",
       "      <td>Technical Degree</td>\n",
       "      <td>1</td>\n",
       "      <td>42</td>\n",
       "      <td>4</td>\n",
       "      <td>56</td>\n",
       "      <td>3</td>\n",
       "      <td>2</td>\n",
       "      <td>4</td>\n",
       "      <td>Married</td>\n",
       "      <td>2086</td>\n",
       "      <td>3335</td>\n",
       "      <td>3</td>\n",
       "      <td>Y</td>\n",
       "      <td>No</td>\n",
       "      <td>14</td>\n",
       "      <td>3</td>\n",
       "      <td>3</td>\n",
       "      <td>80</td>\n",
       "      <td>1</td>\n",
       "      <td>19</td>\n",
       "      <td>6</td>\n",
       "      <td>4</td>\n",
       "      <td>1</td>\n",
       "      <td>0</td>\n",
       "      <td>0</td>\n",
       "      <td>0</td>\n",
       "    </tr>\n",
       "    <tr>\n",
       "      <th>2</th>\n",
       "      <td>50</td>\n",
       "      <td>Travel_Rarely</td>\n",
       "      <td>869</td>\n",
       "      <td>3</td>\n",
       "      <td>2</td>\n",
       "      <td>Marketing</td>\n",
       "      <td>1</td>\n",
       "      <td>47</td>\n",
       "      <td>1</td>\n",
       "      <td>86</td>\n",
       "      <td>2</td>\n",
       "      <td>1</td>\n",
       "      <td>3</td>\n",
       "      <td>Married</td>\n",
       "      <td>2683</td>\n",
       "      <td>3810</td>\n",
       "      <td>1</td>\n",
       "      <td>Y</td>\n",
       "      <td>Yes</td>\n",
       "      <td>14</td>\n",
       "      <td>3</td>\n",
       "      <td>3</td>\n",
       "      <td>80</td>\n",
       "      <td>0</td>\n",
       "      <td>3</td>\n",
       "      <td>2</td>\n",
       "      <td>3</td>\n",
       "      <td>3</td>\n",
       "      <td>2</td>\n",
       "      <td>0</td>\n",
       "      <td>2</td>\n",
       "    </tr>\n",
       "    <tr>\n",
       "      <th>3</th>\n",
       "      <td>46</td>\n",
       "      <td>Travel_Rarely</td>\n",
       "      <td>669</td>\n",
       "      <td>9</td>\n",
       "      <td>2</td>\n",
       "      <td>Medical</td>\n",
       "      <td>1</td>\n",
       "      <td>118</td>\n",
       "      <td>3</td>\n",
       "      <td>64</td>\n",
       "      <td>2</td>\n",
       "      <td>3</td>\n",
       "      <td>4</td>\n",
       "      <td>Single</td>\n",
       "      <td>9619</td>\n",
       "      <td>13596</td>\n",
       "      <td>1</td>\n",
       "      <td>Y</td>\n",
       "      <td>No</td>\n",
       "      <td>16</td>\n",
       "      <td>3</td>\n",
       "      <td>4</td>\n",
       "      <td>80</td>\n",
       "      <td>0</td>\n",
       "      <td>9</td>\n",
       "      <td>3</td>\n",
       "      <td>3</td>\n",
       "      <td>9</td>\n",
       "      <td>8</td>\n",
       "      <td>4</td>\n",
       "      <td>7</td>\n",
       "    </tr>\n",
       "    <tr>\n",
       "      <th>4</th>\n",
       "      <td>25</td>\n",
       "      <td>Non-Travel</td>\n",
       "      <td>240</td>\n",
       "      <td>5</td>\n",
       "      <td>3</td>\n",
       "      <td>Marketing</td>\n",
       "      <td>1</td>\n",
       "      <td>142</td>\n",
       "      <td>3</td>\n",
       "      <td>46</td>\n",
       "      <td>2</td>\n",
       "      <td>2</td>\n",
       "      <td>3</td>\n",
       "      <td>Single</td>\n",
       "      <td>5744</td>\n",
       "      <td>26959</td>\n",
       "      <td>1</td>\n",
       "      <td>Y</td>\n",
       "      <td>Yes</td>\n",
       "      <td>11</td>\n",
       "      <td>3</td>\n",
       "      <td>4</td>\n",
       "      <td>80</td>\n",
       "      <td>0</td>\n",
       "      <td>6</td>\n",
       "      <td>1</td>\n",
       "      <td>3</td>\n",
       "      <td>6</td>\n",
       "      <td>4</td>\n",
       "      <td>0</td>\n",
       "      <td>3</td>\n",
       "    </tr>\n",
       "  </tbody>\n",
       "</table>\n",
       "</div>"
      ],
      "text/plain": [
       "   Age BusinessTravel  DailyRate  DistanceFromHome  Education  \\\n",
       "0   36  Travel_Rarely       1218                 9          4   \n",
       "1   39  Travel_Rarely        895                 5          3   \n",
       "2   50  Travel_Rarely        869                 3          2   \n",
       "3   46  Travel_Rarely        669                 9          2   \n",
       "4   25     Non-Travel        240                 5          3   \n",
       "\n",
       "     EducationField  EmployeeCount  EmployeeNumber  EnvironmentSatisfaction  \\\n",
       "0     Life Sciences              1              27                        3   \n",
       "1  Technical Degree              1              42                        4   \n",
       "2         Marketing              1              47                        1   \n",
       "3           Medical              1             118                        3   \n",
       "4         Marketing              1             142                        3   \n",
       "\n",
       "   HourlyRate  JobInvolvement  JobLevel  JobSatisfaction MaritalStatus  \\\n",
       "0          82               2         1                1        Single   \n",
       "1          56               3         2                4       Married   \n",
       "2          86               2         1                3       Married   \n",
       "3          64               2         3                4        Single   \n",
       "4          46               2         2                3        Single   \n",
       "\n",
       "   MonthlyIncome  MonthlyRate  NumCompaniesWorked Over18 OverTime  \\\n",
       "0           3407         6986                   7      Y       No   \n",
       "1           2086         3335                   3      Y       No   \n",
       "2           2683         3810                   1      Y      Yes   \n",
       "3           9619        13596                   1      Y       No   \n",
       "4           5744        26959                   1      Y      Yes   \n",
       "\n",
       "   PercentSalaryHike  PerformanceRating  RelationshipSatisfaction  \\\n",
       "0                 23                  4                         2   \n",
       "1                 14                  3                         3   \n",
       "2                 14                  3                         3   \n",
       "3                 16                  3                         4   \n",
       "4                 11                  3                         4   \n",
       "\n",
       "   StandardHours  StockOptionLevel  TotalWorkingYears  TrainingTimesLastYear  \\\n",
       "0             80                 0                 10                      4   \n",
       "1             80                 1                 19                      6   \n",
       "2             80                 0                  3                      2   \n",
       "3             80                 0                  9                      3   \n",
       "4             80                 0                  6                      1   \n",
       "\n",
       "   WorkLifeBalance  YearsAtCompany  YearsInCurrentRole  \\\n",
       "0                3               5                   3   \n",
       "1                4               1                   0   \n",
       "2                3               3                   2   \n",
       "3                3               9                   8   \n",
       "4                3               6                   4   \n",
       "\n",
       "   YearsSinceLastPromotion  YearsWithCurrManager  \n",
       "0                        0                     3  \n",
       "1                        0                     0  \n",
       "2                        0                     2  \n",
       "3                        4                     7  \n",
       "4                        0                     3  "
      ]
     },
     "execution_count": 36,
     "metadata": {},
     "output_type": "execute_result"
    }
   ],
   "source": [
    "sig_lvl=0.01\n",
    "df2=pd.read_csv('sales_emp.csv')\n",
    "pd.set_option('display.max_rows', None) \n",
    "pd.set_option('display.max_columns', None)\n",
    "df2.head()"
   ]
  },
  {
   "cell_type": "code",
   "execution_count": 19,
   "id": "7418fdab",
   "metadata": {},
   "outputs": [],
   "source": [
    "# hypothesis\n",
    "# h0: The average monthly income of sales executives with different education backgrounds is equal.\n",
    "# ha: The average monthly income of sales executives with different education backgrounds is not equal."
   ]
  },
  {
   "cell_type": "code",
   "execution_count": 20,
   "id": "6b6257a9",
   "metadata": {},
   "outputs": [
    {
     "data": {
      "text/plain": [
       "array(['Life Sciences', 'Technical Degree', 'Marketing', 'Medical',\n",
       "       'Other'], dtype=object)"
      ]
     },
     "execution_count": 20,
     "metadata": {},
     "output_type": "execute_result"
    }
   ],
   "source": [
    "df2['EducationField'].unique()"
   ]
  },
  {
   "cell_type": "code",
   "execution_count": 21,
   "id": "71c6bbcd",
   "metadata": {},
   "outputs": [],
   "source": [
    "#condition 1 to do one way annova test \n",
    "#data is normal or not (using shapiro test)\n",
    "#h0: data is normal\n",
    "#ha: data is not normal\n",
    "\n",
    "#condition 2 to do one way annova test\n",
    "#check variance must be equal (using levene test)\n",
    "#h0: all variance are equal \n",
    "#h1: atleast one variance is not equal"
   ]
  },
  {
   "cell_type": "code",
   "execution_count": 22,
   "id": "f6a03e30",
   "metadata": {},
   "outputs": [
    {
     "data": {
      "text/plain": [
       "ShapiroResult(statistic=0.9582135677337646, pvalue=0.05732710659503937)"
      ]
     },
     "execution_count": 22,
     "metadata": {},
     "output_type": "execute_result"
    }
   ],
   "source": [
    "stats.shapiro(df2['MonthlyIncome'])"
   ]
  },
  {
   "cell_type": "code",
   "execution_count": 23,
   "id": "d72b341e",
   "metadata": {},
   "outputs": [],
   "source": [
    "# pval<sig lvl\n",
    "# all data are normal\n",
    "# we can proceed second condition"
   ]
  },
  {
   "cell_type": "code",
   "execution_count": 35,
   "id": "c06db757",
   "metadata": {},
   "outputs": [],
   "source": [
    "#condition 1 to do one way annova test \n",
    "#data is normal or not (using shapiro test)\n",
    "#h0: data is normal\n",
    "#ha: data is not normal\n",
    "sig_lvl=0.01\n",
    "grp_lif_sci =   df2[df2['EducationField']=='Life Sciences']['MonthlyIncome']\n",
    "grp_tec_deg =   df2[df2['EducationField']=='Technical Degree']['MonthlyIncome']\n",
    "grp_marketing = df2[df2['EducationField']=='Marketing']['MonthlyIncome']\n",
    "grp_Medical =   df2[df2['EducationField']=='Medical']['MonthlyIncome']\n",
    "grp_Other =     df2[df2['EducationField']=='Other']['MonthlyIncome']\n"
   ]
  },
  {
   "cell_type": "code",
   "execution_count": 29,
   "id": "270c51e9",
   "metadata": {},
   "outputs": [],
   "source": [
    "#condition 2 to do one way annova test\n",
    "#check variance must be equal (using levene test)\n",
    "#h0: all variance are equal \n",
    "#h1: atleast one variance is not equal"
   ]
  },
  {
   "cell_type": "code",
   "execution_count": 30,
   "id": "725a356e",
   "metadata": {},
   "outputs": [
    {
     "data": {
      "text/plain": [
       "LeveneResult(statistic=1.4405771214255787, pvalue=0.23476859109336565)"
      ]
     },
     "execution_count": 30,
     "metadata": {},
     "output_type": "execute_result"
    }
   ],
   "source": [
    "stats.levene(grp_lif_sci,grp_tec_deg,grp_marketing,grp_Medical,grp_Other)"
   ]
  },
  {
   "cell_type": "code",
   "execution_count": 31,
   "id": "01d6edff",
   "metadata": {},
   "outputs": [],
   "source": [
    "# pval> sig_lvl\n",
    "# h0: all variance are equal\n",
    "# all assumption are correct\n",
    "# we can proceed to one way annova test"
   ]
  },
  {
   "cell_type": "code",
   "execution_count": 38,
   "id": "25f90b72",
   "metadata": {},
   "outputs": [
    {
     "name": "stdout",
     "output_type": "stream",
     "text": [
      "we are fail to reject h0 \n",
      "The average monthly income of sales executives with different education backgrounds is equal with 0.99 confidence\n"
     ]
    }
   ],
   "source": [
    "pval=stats.f_oneway(grp_lif_sci,grp_tec_deg,grp_marketing,grp_Medical,grp_Other)[1]\n",
    "if pval< sig_lvl:\n",
    "    print('h0 is rejected \\nThe average monthly income of sales executives with different education backgrounds is not equal with {:.2f} confidence'.format(1-sig_lvl))\n",
    "else:\n",
    "    print('we are fail to reject h0 \\nThe average monthly income of sales executives with different education backgrounds is equal with {:.2f} confidence'.format(1-sig_lvl))"
   ]
  },
  {
   "cell_type": "code",
   "execution_count": null,
   "id": "23e7c9af",
   "metadata": {},
   "outputs": [],
   "source": []
  },
  {
   "cell_type": "code",
   "execution_count": null,
   "id": "2325f5c0",
   "metadata": {},
   "outputs": [],
   "source": []
  },
  {
   "cell_type": "markdown",
   "id": "6f9a148b",
   "metadata": {},
   "source": [
    "Use the data available in the CSV file `sales_emp.csv`."
   ]
  },
  {
   "cell_type": "code",
   "execution_count": 43,
   "id": "1446fb96",
   "metadata": {},
   "outputs": [],
   "source": []
  },
  {
   "cell_type": "markdown",
   "id": "bda0b248",
   "metadata": {},
   "source": [
    " <table align=\"left\">\n",
    "    <tr>\n",
    "        <td width=\"6%\">\n",
    "            <img src=\"question_icon.png\">\n",
    "        </td>\n",
    "        <td>\n",
    "            <div align=\"left\", style=\"font-size:120%\">\n",
    "                <font color=\"#21618C\">\n",
    "                    <b>7. Use the sales employees' dataset to test whether the average monthly income of sales executives with different education background is equal or not. Use a critical value method with 99% confidence.</b>\n",
    "                </font>\n",
    "            </div>\n",
    "        </td>\n",
    "    </tr>\n",
    "</table>"
   ]
  },
  {
   "cell_type": "code",
   "execution_count": 7,
   "id": "8cef50c4",
   "metadata": {},
   "outputs": [],
   "source": [
    "# hypothesis\n",
    "# h0: The average monthly income of sales executives with different education backgrounds is equal.\n",
    "# ha: The average monthly income of sales executives with different education backgrounds is not equal."
   ]
  },
  {
   "cell_type": "code",
   "execution_count": null,
   "id": "4e4969ec",
   "metadata": {},
   "outputs": [],
   "source": [
    "# same question solve in previous one"
   ]
  },
  {
   "cell_type": "code",
   "execution_count": null,
   "id": "67fa9721",
   "metadata": {},
   "outputs": [],
   "source": []
  },
  {
   "cell_type": "markdown",
   "id": "03562936",
   "metadata": {},
   "source": [
    "<table align=\"left\">\n",
    "    <tr>\n",
    "        <td width=\"6%\">\n",
    "            <img src=\"question_icon.png\">\n",
    "        </td>\n",
    "        <td>\n",
    "            <div align=\"left\", style=\"font-size:120%\">\n",
    "                <font color=\"#21618C\">\n",
    "                    <b>8. The company wants to decide their advertisement strategies for their new smartwatch. The manager collects the advertising cost (in dollars) for four different mediums. Test if the company is spending on average an equal amount on all the advertising mediums using a critical value approach with 99% confidence.</b>\n",
    "                </font>\n",
    "            </div>\n",
    "        </td>\n",
    "    </tr>\n",
    "</table>"
   ]
  },
  {
   "cell_type": "code",
   "execution_count": 40,
   "id": "f3c6d0a9",
   "metadata": {},
   "outputs": [
    {
     "data": {
      "text/html": [
       "<div>\n",
       "<style scoped>\n",
       "    .dataframe tbody tr th:only-of-type {\n",
       "        vertical-align: middle;\n",
       "    }\n",
       "\n",
       "    .dataframe tbody tr th {\n",
       "        vertical-align: top;\n",
       "    }\n",
       "\n",
       "    .dataframe thead th {\n",
       "        text-align: right;\n",
       "    }\n",
       "</style>\n",
       "<table border=\"1\" class=\"dataframe\">\n",
       "  <thead>\n",
       "    <tr style=\"text-align: right;\">\n",
       "      <th></th>\n",
       "      <th>medium</th>\n",
       "      <th>cost</th>\n",
       "    </tr>\n",
       "  </thead>\n",
       "  <tbody>\n",
       "    <tr>\n",
       "      <th>0</th>\n",
       "      <td>Snapmart</td>\n",
       "      <td>252</td>\n",
       "    </tr>\n",
       "    <tr>\n",
       "      <th>1</th>\n",
       "      <td>Picbook</td>\n",
       "      <td>378</td>\n",
       "    </tr>\n",
       "    <tr>\n",
       "      <th>2</th>\n",
       "      <td>Funsta</td>\n",
       "      <td>312</td>\n",
       "    </tr>\n",
       "    <tr>\n",
       "      <th>3</th>\n",
       "      <td>Klicker</td>\n",
       "      <td>297</td>\n",
       "    </tr>\n",
       "    <tr>\n",
       "      <th>4</th>\n",
       "      <td>Picbook</td>\n",
       "      <td>361</td>\n",
       "    </tr>\n",
       "    <tr>\n",
       "      <th>5</th>\n",
       "      <td>Snapmart</td>\n",
       "      <td>274</td>\n",
       "    </tr>\n",
       "    <tr>\n",
       "      <th>6</th>\n",
       "      <td>Klicker</td>\n",
       "      <td>352</td>\n",
       "    </tr>\n",
       "    <tr>\n",
       "      <th>7</th>\n",
       "      <td>Picbook</td>\n",
       "      <td>343</td>\n",
       "    </tr>\n",
       "    <tr>\n",
       "      <th>8</th>\n",
       "      <td>Funsta</td>\n",
       "      <td>320</td>\n",
       "    </tr>\n",
       "    <tr>\n",
       "      <th>9</th>\n",
       "      <td>Snapmart</td>\n",
       "      <td>242</td>\n",
       "    </tr>\n",
       "    <tr>\n",
       "      <th>10</th>\n",
       "      <td>Klicker</td>\n",
       "      <td>305</td>\n",
       "    </tr>\n",
       "    <tr>\n",
       "      <th>11</th>\n",
       "      <td>Funsta</td>\n",
       "      <td>325</td>\n",
       "    </tr>\n",
       "  </tbody>\n",
       "</table>\n",
       "</div>"
      ],
      "text/plain": [
       "      medium  cost\n",
       "0   Snapmart   252\n",
       "1    Picbook   378\n",
       "2     Funsta   312\n",
       "3    Klicker   297\n",
       "4    Picbook   361\n",
       "5   Snapmart   274\n",
       "6    Klicker   352\n",
       "7    Picbook   343\n",
       "8     Funsta   320\n",
       "9   Snapmart   242\n",
       "10   Klicker   305\n",
       "11    Funsta   325"
      ]
     },
     "execution_count": 40,
     "metadata": {},
     "output_type": "execute_result"
    }
   ],
   "source": [
    "df3=pd.read_excel('ad_cost.xlsx')\n",
    "df3"
   ]
  },
  {
   "cell_type": "markdown",
   "id": "7f0e00af",
   "metadata": {},
   "source": [
    "Use the data given in the excel file `ad_cost.xlsx`"
   ]
  },
  {
   "cell_type": "code",
   "execution_count": 41,
   "id": "dd2a6fad",
   "metadata": {},
   "outputs": [
    {
     "data": {
      "text/plain": [
       "array(['Snapmart', 'Picbook', 'Funsta', 'Klicker'], dtype=object)"
      ]
     },
     "execution_count": 41,
     "metadata": {},
     "output_type": "execute_result"
    }
   ],
   "source": [
    "df3['medium'].unique()"
   ]
  },
  {
   "cell_type": "code",
   "execution_count": 42,
   "id": "03b61d9c",
   "metadata": {},
   "outputs": [],
   "source": [
    "#h0:the company is spending on average an equal amount on all the advertising mediums\n",
    "#ha:the company is spending on average not equal amount on all the advertising mediums\n",
    "\n",
    "\n",
    "#condition 1 to do one way annova test \n",
    "#data is normal or not (using shapiro test)\n",
    "#h0: data is normal\n",
    "#ha: data is not normal\n",
    "\n",
    "#condition 2 to do one way annova test\n",
    "#check variance must be equal (using levene test)\n",
    "#h0: all variance are equal \n",
    "#h1: atleast one variance is not equal"
   ]
  },
  {
   "cell_type": "code",
   "execution_count": 43,
   "id": "071aabe8",
   "metadata": {},
   "outputs": [],
   "source": [
    "#condition 1 to do one way annova test \n",
    "#data is normal or not (using shapiro test)\n",
    "#h0: data is normal\n",
    "#ha: data is not normal\n",
    "sig_lvl=0.01"
   ]
  },
  {
   "cell_type": "code",
   "execution_count": 44,
   "id": "4f2fa167",
   "metadata": {},
   "outputs": [
    {
     "data": {
      "text/plain": [
       "ShapiroResult(statistic=0.9700300097465515, pvalue=0.9111184477806091)"
      ]
     },
     "execution_count": 44,
     "metadata": {},
     "output_type": "execute_result"
    }
   ],
   "source": [
    "stats.shapiro(df3['cost'])"
   ]
  },
  {
   "cell_type": "code",
   "execution_count": 45,
   "id": "d36873a0",
   "metadata": {},
   "outputs": [],
   "source": [
    "# pval>sig lvl\n",
    "# all data are normal"
   ]
  },
  {
   "cell_type": "code",
   "execution_count": 46,
   "id": "25dce787",
   "metadata": {},
   "outputs": [],
   "source": [
    "grp_Snapmart =df3[df3['medium']=='Snapmart']['cost']\n",
    "grp_Picbook  =df3[df3['medium']=='Picbook' ]['cost']\n",
    "grp_Funsta   =df3[df3['medium']=='Funsta' ]['cost']\n",
    "grp_Klicker  =df3[df3['medium']=='Klicker' ]['cost']\n"
   ]
  },
  {
   "cell_type": "code",
   "execution_count": 47,
   "id": "4b0c9930",
   "metadata": {},
   "outputs": [],
   "source": [
    "#condition 2 to do one way annova test\n",
    "#check variance must be equal (using levene test)\n",
    "#h0: all variance are equal \n",
    "#h1: atleast one variance is not equal"
   ]
  },
  {
   "cell_type": "code",
   "execution_count": 48,
   "id": "e41dca69",
   "metadata": {},
   "outputs": [
    {
     "data": {
      "text/plain": [
       "LeveneResult(statistic=0.4517895809451024, pvalue=0.7230913376085835)"
      ]
     },
     "execution_count": 48,
     "metadata": {},
     "output_type": "execute_result"
    }
   ],
   "source": [
    "stats.levene(grp_Snapmart,grp_Picbook,grp_Funsta,grp_Klicker)"
   ]
  },
  {
   "cell_type": "code",
   "execution_count": 49,
   "id": "e5986acc",
   "metadata": {},
   "outputs": [],
   "source": [
    "# pval>sig lvl\n",
    "# all the variance are equal\n",
    "# both assumption are passed\n",
    "# we can perform annova test"
   ]
  },
  {
   "cell_type": "code",
   "execution_count": 50,
   "id": "d657342f",
   "metadata": {},
   "outputs": [
    {
     "name": "stdout",
     "output_type": "stream",
     "text": [
      "h0 is rejected \n",
      "the company is spending on average not equal amount on all the advertising mediums with 0.99 confidence\n"
     ]
    }
   ],
   "source": [
    "pval=stats.f_oneway(grp_Snapmart,grp_Picbook,grp_Funsta,grp_Klicker)[1]\n",
    "if pval<sig_lvl:\n",
    "    print('h0 is rejected \\nthe company is spending on average not equal amount on all the advertising mediums with {:.2f} confidence'.format(1-sig_lvl))\n",
    "else:\n",
    "    print('fail to reject h0 \\n the company is spending on average an equal amount on all the advertising mediums with {:.2f} confidence'.format(1-sig_lvl))"
   ]
  },
  {
   "cell_type": "code",
   "execution_count": 51,
   "id": "d0be86a4",
   "metadata": {},
   "outputs": [],
   "source": [
    "# pval=0.53\n",
    "# sig lvl=0.05\n",
    "# pval<sig lvl\n",
    "# h0 is rejected \n",
    "# all means are not equal"
   ]
  },
  {
   "cell_type": "code",
   "execution_count": null,
   "id": "b369bf19",
   "metadata": {},
   "outputs": [],
   "source": []
  },
  {
   "cell_type": "markdown",
   "id": "85c44f03",
   "metadata": {},
   "source": [
    "<table align=\"left\">\n",
    "    <tr>\n",
    "        <td width=\"6%\">\n",
    "            <img src=\"question_icon.png\">\n",
    "        </td>\n",
    "        <td>\n",
    "            <div align=\"left\", style=\"font-size:120%\">\n",
    "                <font color=\"#21618C\">\n",
    "                    <b>9. If the null hypothesis is rejected in the above test find which medium's advertisting cost is significantly different.</b>\n",
    "                </font>\n",
    "            </div>\n",
    "        </td>\n",
    "    </tr>\n",
    "</table>"
   ]
  },
  {
   "cell_type": "code",
   "execution_count": 52,
   "id": "71665459",
   "metadata": {},
   "outputs": [
    {
     "data": {
      "text/html": [
       "<table class=\"simpletable\">\n",
       "<caption>Multiple Comparison of Means - Tukey HSD, FWER=0.05</caption>\n",
       "<tr>\n",
       "  <th>group1</th>   <th>group2</th>  <th>meandiff</th>   <th>p-adj</th>   <th>lower</th>     <th>upper</th>  <th>reject</th>\n",
       "</tr>\n",
       "<tr>\n",
       "  <td>Funsta</td>   <td>Klicker</td>   <td>-1.0</td>    <td>0.9999</td> <td>-51.6393</td>   <td>49.6393</td>  <td>False</td>\n",
       "</tr>\n",
       "<tr>\n",
       "  <td>Funsta</td>   <td>Picbook</td>  <td>41.6667</td>  <td>0.1113</td>  <td>-8.9726</td>   <td>92.3059</td>  <td>False</td>\n",
       "</tr>\n",
       "<tr>\n",
       "  <td>Funsta</td>  <td>Snapmart</td>   <td>-63.0</td>    <td>0.017</td> <td>-113.6393</td> <td>-12.3607</td>  <td>True</td> \n",
       "</tr>\n",
       "<tr>\n",
       "  <td>Klicker</td>  <td>Picbook</td>  <td>42.6667</td>  <td>0.1018</td>  <td>-7.9726</td>   <td>93.3059</td>  <td>False</td>\n",
       "</tr>\n",
       "<tr>\n",
       "  <td>Klicker</td> <td>Snapmart</td>   <td>-62.0</td>   <td>0.0185</td> <td>-112.6393</td> <td>-11.3607</td>  <td>True</td> \n",
       "</tr>\n",
       "<tr>\n",
       "  <td>Picbook</td> <td>Snapmart</td> <td>-104.6667</td> <td>0.0008</td> <td>-155.3059</td> <td>-54.0274</td>  <td>True</td> \n",
       "</tr>\n",
       "</table>"
      ],
      "text/plain": [
       "<class 'statsmodels.iolib.table.SimpleTable'>"
      ]
     },
     "execution_count": 52,
     "metadata": {},
     "output_type": "execute_result"
    }
   ],
   "source": [
    "# \n",
    "mc.pairwise_tukeyhsd(df3['cost'],df3['medium'],alpha=0.05).summary()"
   ]
  },
  {
   "cell_type": "code",
   "execution_count": 53,
   "id": "08c84d23",
   "metadata": {},
   "outputs": [],
   "source": [
    "# funsta<>snapmart\n",
    "#klicker<>snapmart\n",
    "#picbook<>snapmart"
   ]
  },
  {
   "cell_type": "code",
   "execution_count": 17,
   "id": "bb626c92",
   "metadata": {},
   "outputs": [
    {
     "data": {
      "text/plain": [
       "(12.16165275709827, 27.83834724290173)"
      ]
     },
     "execution_count": 17,
     "metadata": {},
     "output_type": "execute_result"
    }
   ],
   "source": [
    "stats.norm.interval(0.05,20,125)"
   ]
  },
  {
   "cell_type": "code",
   "execution_count": 18,
   "id": "3246cb4d",
   "metadata": {},
   "outputs": [
    {
     "data": {
      "text/plain": [
       "(123.74586444113572, 126.25413555886428)"
      ]
     },
     "execution_count": 18,
     "metadata": {},
     "output_type": "execute_result"
    }
   ],
   "source": [
    "stats.norm.interval(0.05,125,20)"
   ]
  },
  {
   "cell_type": "code",
   "execution_count": null,
   "id": "a4806dc2",
   "metadata": {},
   "outputs": [],
   "source": []
  }
 ],
 "metadata": {
  "kernelspec": {
   "display_name": "Python 3 (ipykernel)",
   "language": "python",
   "name": "python3"
  },
  "language_info": {
   "codemirror_mode": {
    "name": "ipython",
    "version": 3
   },
   "file_extension": ".py",
   "mimetype": "text/x-python",
   "name": "python",
   "nbconvert_exporter": "python",
   "pygments_lexer": "ipython3",
   "version": "3.9.13"
  }
 },
 "nbformat": 4,
 "nbformat_minor": 5
}
